{
 "cells": [
  {
   "cell_type": "markdown",
   "metadata": {},
   "source": [
    "<center>\n",
    "    <h1>Introduction to Python - Classes</h1>\n",
    "    <h3>Wersja częściowo w języku polskim (tymczasowa)</h3>\n",
    "</center>\n",
    "\n",
    "Tutorials used for preparing this notebook (cordial acknowledgments to the authors):\n",
    "- https://www.tutorialspoint.com/python/python_classes_objects.htm\n",
    "- https://python.swaroopch.com/oop.html"
   ]
  },
  {
   "cell_type": "markdown",
   "metadata": {},
   "source": [
    "### Podstawowa terminologia - przypomnienie\n",
    "- `Class` − A user-defined prototype for an object that defines a set of attributes that characterize any object of the class. The attributes are data members (class variables and instance variables) and methods, accessed via dot notation.\n",
    "\n",
    "- `Instance` − An individual object of a certain class. An object obj that belongs to a class Circle, for example, is an instance of the class Circle.\n",
    "\n",
    "- `Object` − A unique instance of a data structure that's defined by its class. An object comprises both data members (class variables and instance variables) and methods.\n",
    "\n",
    "- `Instantiation` − The creation of an instance of a class.\n",
    "\n",
    "- `Inheritance` − The transfer of the characteristics of a class to other classes that are derived from it.\n",
    "\n",
    "- `Class variable` − A variable that is shared by all instances of a class. Class variables are defined within a class but outside any of the class's methods. Class variables are not used as frequently as instance variables are.\n",
    "\n",
    "- `Instance variable` − A variable that is defined inside a method and belongs only to the current instance of a class.\n",
    "\n",
    "- `Data member` − A class variable or instance variable that holds data associated with a class and its objects.\n",
    "\n",
    "- `Method` − A special kind of function that is defined in a class definition.\n",
    "\n",
    "- `Function overloading` − The assignment of more than one behavior to a particular function. The operation performed varies by the types of objects or arguments involved.\n",
    "\n",
    "- `Operator overloading` − The assignment of more than one function to a particular operator.\n"
   ]
  },
  {
   "cell_type": "markdown",
   "metadata": {},
   "source": [
    "### Podstawy"
   ]
  },
  {
   "cell_type": "markdown",
   "metadata": {},
   "source": [
    "Tworzenie klasy - słowo kluczowe `class`"
   ]
  },
  {
   "cell_type": "code",
   "execution_count": null,
   "metadata": {},
   "outputs": [],
   "source": []
  },
  {
   "cell_type": "markdown",
   "metadata": {},
   "source": [
    "### Metody\n",
    "Specjalny rodzaj funkcji, zdefiniowanych wewnątrz klasy. Metody (podobnie jak inne funkcje) mogą przyjmować argumenty. W definicji metody pierwszym argumentem jest zawsze `self`. Argumentu tego nie podaje się podczas wywoływania metody."
   ]
  },
  {
   "cell_type": "code",
   "execution_count": null,
   "metadata": {},
   "outputs": [],
   "source": []
  },
  {
   "cell_type": "code",
   "execution_count": null,
   "metadata": {},
   "outputs": [],
   "source": []
  },
  {
   "cell_type": "markdown",
   "metadata": {},
   "source": [
    "### Metoda `__init__`\n",
    "Specjalna metoda uruchamiana w momencie utworzenia klasy. Bardzo często służy do wstępnego zdefiniowania zmiennych."
   ]
  },
  {
   "cell_type": "code",
   "execution_count": null,
   "metadata": {},
   "outputs": [],
   "source": []
  },
  {
   "cell_type": "markdown",
   "metadata": {},
   "source": [
    "### Zmienne instancji\n",
    "Są te zmienne zdefiniowane wewnątrz metody `__init__`. Zmienne te są unikalne dla każdej instancji danej klasy. Do zmiennych można uzyskać dostęp z zewnątrz klasy."
   ]
  },
  {
   "cell_type": "code",
   "execution_count": null,
   "metadata": {},
   "outputs": [],
   "source": []
  },
  {
   "cell_type": "code",
   "execution_count": null,
   "metadata": {},
   "outputs": [],
   "source": []
  },
  {
   "cell_type": "markdown",
   "metadata": {},
   "source": [
    "### Zmienne klasy\n",
    "Definiowane są poza metodami (najczęściej bezpośrednio po definicji klasy). Zmienne klasy mają taką samą wartość dla każdej instancji danej klasy."
   ]
  },
  {
   "cell_type": "code",
   "execution_count": null,
   "metadata": {},
   "outputs": [],
   "source": []
  },
  {
   "cell_type": "code",
   "execution_count": null,
   "metadata": {},
   "outputs": [],
   "source": []
  },
  {
   "cell_type": "markdown",
   "metadata": {},
   "source": [
    "Zmienne można definiować poza klasą"
   ]
  },
  {
   "cell_type": "code",
   "execution_count": null,
   "metadata": {},
   "outputs": [],
   "source": []
  },
  {
   "cell_type": "code",
   "execution_count": null,
   "metadata": {},
   "outputs": [],
   "source": []
  },
  {
   "cell_type": "code",
   "execution_count": null,
   "metadata": {},
   "outputs": [],
   "source": []
  },
  {
   "cell_type": "markdown",
   "metadata": {},
   "source": [
    "### Zadanie 1\n",
    "Zmień klasę `Person` w taki sposób aby\n",
    "- każda osoba miała swoje unikalne `person_id` które nadawane jest po utworzeniu. `person_id` powinno być typu `int`, pierwsze `person_id` powinno mieć wartość 1, a każde kolejne powinno być o 1 większe od poprzedniego (`person_id` jest zmienną instancji).\n",
    "- istniała zmienna klasy `nr_persons`, która mówiłaby o tym, ile instancji klasy Person zostało utworzonych (`nr_persons` jest zmienną klasy)."
   ]
  },
  {
   "cell_type": "code",
   "execution_count": null,
   "metadata": {},
   "outputs": [],
   "source": [
    "# Tu wstaw swój kod"
   ]
  },
  {
   "cell_type": "code",
   "execution_count": null,
   "metadata": {},
   "outputs": [],
   "source": []
  },
  {
   "cell_type": "markdown",
   "metadata": {},
   "source": [
    "#### Tester\n",
    "Uruchom poniższy kod, żeby sprawdzić czy zmiana się udała"
   ]
  },
  {
   "cell_type": "code",
   "execution_count": null,
   "metadata": {},
   "outputs": [],
   "source": [
    "Person.nr_persons = 0\n",
    "persons = [Person('Osoba {}'.format(i)) for i in range (1, 4)]\n",
    "\n",
    "for i, p in enumerate(persons):\n",
    "    assert p.person_id == i+1, 'Osoba {} ma id {} (powinno być {}).'.format(i + 1, p.person_id, i + 1)\n",
    "assert Person.nr_persons == len(persons), 'Utworzono {} instancje (powinno być {})'.format(Person.nr_persons, len(persons))\n",
    "\n",
    "print ('Udało się! Utworzono {} instancje o numerach {}.'.format(len(persons), [p.person_id for p in persons]))\n"
   ]
  },
  {
   "cell_type": "markdown",
   "metadata": {},
   "source": [
    "### Dokumentacja"
   ]
  },
  {
   "cell_type": "code",
   "execution_count": null,
   "metadata": {},
   "outputs": [],
   "source": []
  },
  {
   "cell_type": "code",
   "execution_count": null,
   "metadata": {},
   "outputs": [],
   "source": []
  },
  {
   "cell_type": "code",
   "execution_count": null,
   "metadata": {},
   "outputs": [],
   "source": []
  },
  {
   "cell_type": "markdown",
   "metadata": {},
   "source": [
    "### Dziedziczenie"
   ]
  },
  {
   "cell_type": "code",
   "execution_count": null,
   "metadata": {},
   "outputs": [],
   "source": []
  },
  {
   "cell_type": "code",
   "execution_count": null,
   "metadata": {},
   "outputs": [],
   "source": []
  },
  {
   "cell_type": "markdown",
   "metadata": {},
   "source": [
    "### Zadanie 2\n",
    "Dana jest klasa `Animal` (poniżej). Napisz dwie klasy: `Dog` i `Cat` dziedziczące klasę animal. Klasy te powinny przeciążać metodę `voice` tak aby:\n",
    "- `Dog().voice()` wyświetlało `Bark!, Bark!`\n",
    "- `Cat().voice()` wyświetlało `Meooow!!!`\n",
    "- Zmienna `species` przybierała odpowiednio wartość `Cat` lub `Dog`"
   ]
  },
  {
   "cell_type": "code",
   "execution_count": null,
   "metadata": {},
   "outputs": [],
   "source": [
    "class Animal:\n",
    "    def __init__(self):\n",
    "        self.species = 'Uknown'\n",
    "    \n",
    "    def voice(self):\n",
    "        print ('Ugrhhh, Agrhhh, I do not know what to say....')\n",
    "        \n",
    "    def tailwag(self):\n",
    "        print ('Wag, wag.')"
   ]
  },
  {
   "cell_type": "code",
   "execution_count": null,
   "metadata": {},
   "outputs": [],
   "source": [
    "# Tu wstaw swój kod"
   ]
  },
  {
   "cell_type": "code",
   "execution_count": null,
   "metadata": {},
   "outputs": [],
   "source": []
  },
  {
   "cell_type": "markdown",
   "metadata": {},
   "source": [
    "#### Tester\n",
    "Uruchom kod poniżej, żeby wytestować swoje klasy"
   ]
  },
  {
   "cell_type": "code",
   "execution_count": null,
   "metadata": {},
   "outputs": [],
   "source": [
    "d = Dog()\n",
    "c = Cat()\n",
    "print ('- Piesku, daj głos!')\n",
    "d.voice()\n",
    "print ('\\n- Cieszysz się?')\n",
    "d.tailwag()\n",
    "print ('\\n- Kotku, teraz ty...')\n",
    "c.voice()"
   ]
  },
  {
   "cell_type": "markdown",
   "metadata": {},
   "source": [
    "### Przeciążanie metod i operatorów - wybrane metody wbudowane:\n",
    "- `__init__ ( self [,args...] )` - Constructor (with any optional arguments)\n",
    "- `__del__( self )` - Destructor, deletes an object\n",
    "- `__str__( self )` - Printable string representation\n",
    "- `__lt__ ( self, x )` - Object comparison (less than)\n",
    "- `__gt__ ( self, x )` - Object comparison (greater than)\n",
    "- `__le__ ( self, x )` - Object comparison (less or equal than)\n",
    "- `__ge__ ( self, x )` - Object comparison (greater or equal than)\n",
    "- `__eq__ ( self, x )` - Object comparison (equal to )\n",
    "- `__ne__ ( self, x )` - Object comparison (not equal)\n",
    "- `__add__ ( self, x )` - Object addition\n",
    "\n",
    "\n"
   ]
  },
  {
   "cell_type": "code",
   "execution_count": null,
   "metadata": {},
   "outputs": [],
   "source": []
  },
  {
   "cell_type": "code",
   "execution_count": null,
   "metadata": {},
   "outputs": [],
   "source": []
  },
  {
   "cell_type": "code",
   "execution_count": null,
   "metadata": {},
   "outputs": [],
   "source": []
  },
  {
   "cell_type": "code",
   "execution_count": null,
   "metadata": {},
   "outputs": [],
   "source": []
  },
  {
   "cell_type": "code",
   "execution_count": null,
   "metadata": {},
   "outputs": [],
   "source": []
  },
  {
   "cell_type": "code",
   "execution_count": null,
   "metadata": {},
   "outputs": [],
   "source": []
  },
  {
   "cell_type": "code",
   "execution_count": null,
   "metadata": {},
   "outputs": [],
   "source": []
  },
  {
   "cell_type": "code",
   "execution_count": null,
   "metadata": {},
   "outputs": [],
   "source": []
  },
  {
   "cell_type": "code",
   "execution_count": null,
   "metadata": {},
   "outputs": [],
   "source": []
  },
  {
   "cell_type": "code",
   "execution_count": null,
   "metadata": {},
   "outputs": [],
   "source": []
  },
  {
   "cell_type": "code",
   "execution_count": null,
   "metadata": {},
   "outputs": [],
   "source": []
  },
  {
   "cell_type": "markdown",
   "metadata": {},
   "source": [
    "### Zadanie 3\n",
    "Napisz klasę `Vector` która:\n",
    "- inicjowana przyjmuje 2 parametry (a i b). Te parametry są pierwszym i drugim elementem wektora\n",
    "- Przy zrzutowaniu na stringa wyświetla: `Vector [a, b]`\n",
    "- Dodając dwa wektory dodje je 'elementwise', tzn: V1 + V2 = V1.a + V2.a, V1.b + V2.b\n",
    "\n",
    "Następujący kod:\n",
    "<code>\n",
    "v1 = Vector(2,10)\n",
    "v2 = Vector(5,-2)\n",
    "print (v1 + v2)\n",
    "</code>\n",
    "powinien zwrócić: `Vector (7, 8)`"
   ]
  },
  {
   "cell_type": "code",
   "execution_count": null,
   "metadata": {},
   "outputs": [],
   "source": [
    "# Tu wstaw swój kod"
   ]
  },
  {
   "cell_type": "markdown",
   "metadata": {},
   "source": [
    "#### Tester\n",
    "Uruchom poniższy kod, żeby wytestować swoją funkcję"
   ]
  },
  {
   "cell_type": "code",
   "execution_count": null,
   "metadata": {},
   "outputs": [],
   "source": [
    "v1 = Vector(2,10)\n",
    "v2 = Vector(5,-2)\n",
    "print (v1 + v2)"
   ]
  },
  {
   "cell_type": "markdown",
   "metadata": {},
   "source": [
    "### Ukrywanie zmiennych\n",
    "W teorii możemy ukryć zmienne poprzedzając ich nazwę podwójnym podkreśleniem"
   ]
  },
  {
   "cell_type": "code",
   "execution_count": null,
   "metadata": {},
   "outputs": [],
   "source": []
  },
  {
   "cell_type": "code",
   "execution_count": null,
   "metadata": {},
   "outputs": [],
   "source": [
    "# Powinno zwrócić błąd\n",
    "print (counter.__secretCount)"
   ]
  },
  {
   "cell_type": "markdown",
   "metadata": {},
   "source": [
    "Ale do tej zmiennej wciąż jest dostęp poprzez `obiekt._NazwaKlasy__NazwaZmiennej`"
   ]
  },
  {
   "cell_type": "code",
   "execution_count": null,
   "metadata": {},
   "outputs": [],
   "source": []
  }
 ],
 "metadata": {
  "kernelspec": {
   "display_name": "Python 3",
   "language": "python",
   "name": "python3"
  },
  "language_info": {
   "codemirror_mode": {
    "name": "ipython",
    "version": 3
   },
   "file_extension": ".py",
   "mimetype": "text/x-python",
   "name": "python",
   "nbconvert_exporter": "python",
   "pygments_lexer": "ipython3",
   "version": "3.8.3"
  }
 },
 "nbformat": 4,
 "nbformat_minor": 2
}
