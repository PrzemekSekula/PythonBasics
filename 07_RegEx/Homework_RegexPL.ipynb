{
 "cells": [
  {
   "cell_type": "markdown",
   "metadata": {},
   "source": [
    "<center>\n",
    "<h1>Wprowadzenie do Python i Pandas</h1>\n",
    "<h2>\n",
    "Regular Expressions - Zadanie (zadanie jest oceniane)\n",
    "</h2>\n",
    "</center>"
   ]
  },
  {
   "cell_type": "markdown",
   "metadata": {},
   "source": [
    "### Zasady rozwiązywania zadania\n",
    "- Zadanie nie zawiera kodu, a wyłącznie opis i miejsce, gdzie ten kod ma być wpisany.\n",
    "- Kod wpisujesz w komórki typu 'Code', oznaczone przez <b>#Tu wpisz swój kod</b> Jeśli potrzebujesz, możesz dodać tyle komórek, ile chcesz.\n",
    "- W wielu przypadkach kod musi być wykonany po kolei. Nie da się wykonać kolejnego kodu, jeśli nie jest wykonany poprzedni\n",
    "- Ocenie podlega całość zadania. \n",
    "- <b>Integralną częścią oceny jest odpowiedź. Wysłanie zadania na maila nie jest wystarczające dla otrzymania oceny pozytywnej</b>"
   ]
  },
  {
   "cell_type": "markdown",
   "metadata": {},
   "source": [
    "## Zadanie 1\n",
    "Napisz kod który przetworzy plik `zad1.txt` oraz:\n",
    "- policzy ile razy w tym pliku występują liczby\n",
    "- poda sumę tych liczb\n",
    "\n",
    "*Podpowiedzi*\n",
    "- Zakładamy, że w pliku występują wyłącznie liczby naturalne\n",
    "- Jeżeli dwie liczby odzielone są spacją, to traktujemy je jako dwie liczby. Np `12 345` traktujemy jako `[12, 345]` a nie jako `[12345]`\n"
   ]
  },
  {
   "cell_type": "code",
   "execution_count": null,
   "metadata": {},
   "outputs": [],
   "source": [
    "import re"
   ]
  },
  {
   "cell_type": "code",
   "execution_count": null,
   "metadata": {},
   "outputs": [],
   "source": [
    "# Tu wstaw swój kod"
   ]
  },
  {
   "cell_type": "markdown",
   "metadata": {},
   "source": [
    "## Zadanie 2\n",
    "Napisz kod który przetworzy plik `log.txt` oraz:\n",
    "- policzy ile razy w tym pliku występują numery ip\n",
    "- posortuje i wyświetli te numery (sortować możesz tak jak liczby, lub tak jak tekst)"
   ]
  },
  {
   "cell_type": "code",
   "execution_count": null,
   "metadata": {},
   "outputs": [],
   "source": [
    "# Tu wstaw swój kod"
   ]
  },
  {
   "cell_type": "markdown",
   "metadata": {},
   "source": [
    "## Zadanie 3\n",
    "Napisz kod który przetworzy plik `mbox-short.txt`, zidentyfikuje wszystkich nadawców maili\n",
    "i policzy ile każdy z nich wysłał maili. Wynik powinien być przedstawiony w postaci słownika (dicitonary).\n",
    "Przykładowy wynik:\n",
    "<code>\n",
    "{'nadawca5@uct.ac.za', 4\n",
    " 'nadawca1@media.berkeley.edu' : 3,\n",
    " 'nadawca2@caret.cam.ac.uk' : 2,\n",
    " ......}\n",
    "</code>\n",
    "\n",
    "**Na ocenę bdb. słownik powinien być posortowany wg ilości maili, malejąco.**\n",
    "\n"
   ]
  },
  {
   "cell_type": "code",
   "execution_count": null,
   "metadata": {},
   "outputs": [],
   "source": [
    "# Tu wstaw swój kod"
   ]
  },
  {
   "cell_type": "code",
   "execution_count": null,
   "metadata": {},
   "outputs": [],
   "source": []
  }
 ],
 "metadata": {
  "kernelspec": {
   "display_name": "Python 3",
   "language": "python",
   "name": "python3"
  },
  "language_info": {
   "codemirror_mode": {
    "name": "ipython",
    "version": 3
   },
   "file_extension": ".py",
   "mimetype": "text/x-python",
   "name": "python",
   "nbconvert_exporter": "python",
   "pygments_lexer": "ipython3",
   "version": "3.8.3"
  }
 },
 "nbformat": 4,
 "nbformat_minor": 4
}
