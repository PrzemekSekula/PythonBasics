{
 "cells": [
  {
   "cell_type": "markdown",
   "metadata": {},
   "source": [
    "# Regular Expressions\n",
    "\n",
    "- Based on Coursera: Using Python to Access Web Data - https://www.coursera.org/learn/python-network-data/home/welcome\n",
    "- Code for Dr. Charles R. Severance's presentation (attached in the repo)\n",
    "\n",
    "### Quick Guide\n",
    "\n",
    "\n",
    "\n",
    "- `^` - Matches the beginning of a line\n",
    "- `$` - Matches the end of the line\n",
    "- `.` - Matches any character\n",
    "- `\\s` - Matches whitespace\n",
    "- `\\S` - Matches any non-whitespace character\n",
    "- `*` - Repeats a character zero or more times\n",
    "- `*?` - Repeats a character zero or more times (non-greedy)\n",
    "- `+` - Repeats a character one or more times\n",
    "- `+?` - Repeats a character one or more times (non-greedy)\n",
    "- `[aeiou]` - Matches a single character in the listed set\n",
    "- `[^XYZ]` - Matches a single character not in the listed set\n",
    "- `[a-z0-9]` - The set of characters can include a range\n",
    "- `(` - Indicates where string extraction is to start\n",
    "- `)` - Indicates where string extraction is to end\n"
   ]
  },
  {
   "cell_type": "markdown",
   "metadata": {},
   "source": [
    "### Using re.search() like find()\n",
    "- Display all the lines from `./txt/mbox-short.txt` file that contain `From:` phrase"
   ]
  },
  {
   "cell_type": "markdown",
   "metadata": {},
   "source": [
    "#### Without Regular Expressions"
   ]
  },
  {
   "cell_type": "code",
   "execution_count": null,
   "metadata": {},
   "outputs": [],
   "source": [
    "hand = open('./txt/mbox-short.txt')\n",
    "for line in hand:\n",
    "    line = line.rstrip()\n",
    "    if line.find('From:') >= 0:\n",
    "        print (line)"
   ]
  },
  {
   "cell_type": "markdown",
   "metadata": {},
   "source": [
    "#### With Regular Expressions"
   ]
  },
  {
   "cell_type": "code",
   "execution_count": null,
   "metadata": {},
   "outputs": [],
   "source": [
    "import re\n",
    "hand = open('./txt/mbox-short.txt')\n",
    "for line in hand:\n",
    "    line = line.rstrip()\n",
    "    if re.search('From:', line):\n",
    "        print (line)"
   ]
  },
  {
   "cell_type": "markdown",
   "metadata": {},
   "source": [
    "### using re.search() like startswith()\n",
    "- Display all the lines from `./txt/mbox-short.txt` file that start with `From:`"
   ]
  },
  {
   "cell_type": "markdown",
   "metadata": {},
   "source": [
    "#### Without regex"
   ]
  },
  {
   "cell_type": "code",
   "execution_count": null,
   "metadata": {},
   "outputs": [],
   "source": [
    "hand = open('./txt/mbox-short.txt')\n",
    "for line in hand:\n",
    "    line = line.rstrip()\n",
    "    if line.startswith('From:'):\n",
    "        print (line)"
   ]
  },
  {
   "cell_type": "markdown",
   "metadata": {},
   "source": [
    "#### With Regex"
   ]
  },
  {
   "cell_type": "code",
   "execution_count": null,
   "metadata": {},
   "outputs": [],
   "source": [
    "hand = open('./txt/mbox-short.txt')\n",
    "for line in hand:\n",
    "    line = line.rstrip()\n",
    "    if re.search('^From:', line):\n",
    "        print (line)"
   ]
  },
  {
   "cell_type": "markdown",
   "metadata": {},
   "source": [
    "### Machine and Extracting data - numbers\n",
    "- re.search() returns a True/False depending on whether the string matches  the regular expression\n",
    "- If we actually want the matching strings to be extracted, we use re.findall()\n",
    "\n",
    "`[0-9]+` - one or more digits"
   ]
  },
  {
   "cell_type": "code",
   "execution_count": null,
   "metadata": {},
   "outputs": [],
   "source": [
    "x = 'My 2 favorite numbers are  19 and 42'\n",
    "y = re.findall('[0-9]+', x)\n",
    "print (y)"
   ]
  },
  {
   "cell_type": "markdown",
   "metadata": {},
   "source": [
    "### Greedy and Non-Greedy Matching\n",
    "- The repeat characters (* and +) push outward in both directions (greedy) to match the largest possible string"
   ]
  },
  {
   "cell_type": "code",
   "execution_count": null,
   "metadata": {},
   "outputs": [],
   "source": [
    "x = 'From: Using the : character'\n",
    "y = re.findall('^F.+:', x)\n",
    "y"
   ]
  },
  {
   "cell_type": "markdown",
   "metadata": {},
   "source": [
    "- If you want to use Non-Greedy matching, just add a ? character at the end of * or +"
   ]
  },
  {
   "cell_type": "code",
   "execution_count": null,
   "metadata": {},
   "outputs": [],
   "source": [
    "y = re.findall('^F.+?:', x)\n",
    "y"
   ]
  },
  {
   "cell_type": "markdown",
   "metadata": {},
   "source": [
    "### Fine-Tuning  String Extraction\n",
    "\n",
    "- To do: find an e-mail address of the sender\n",
    "- First step: Let's try to find an e-mail"
   ]
  },
  {
   "cell_type": "code",
   "execution_count": null,
   "metadata": {},
   "outputs": [],
   "source": [
    "mail_header = 'From: przemek.sekula@ue.katowice.pl Sat, Jul 19 2019'\n",
    "re.findall('\\S+@\\S+', mail_header)"
   ]
  },
  {
   "cell_type": "markdown",
   "metadata": {},
   "source": [
    "- This code was OK, but what if we have more than one e-mail address in the line?"
   ]
  },
  {
   "cell_type": "code",
   "execution_count": null,
   "metadata": {},
   "outputs": [],
   "source": [
    "mail_header_2 = 'From: przemek.sekula@ue.katowice.pl Sat, Jul 19 2019 To: przemeksekula@gmail.com'\n",
    "re.findall('\\S+@\\S+', mail_header_2)"
   ]
  },
  {
   "cell_type": "markdown",
   "metadata": {},
   "source": [
    "- Parentheses `( )` are not part of the match - but they tell where to start and stop what string to extract\n"
   ]
  },
  {
   "cell_type": "code",
   "execution_count": null,
   "metadata": {},
   "outputs": [],
   "source": [
    "re.findall('^From: (\\S+@\\S+)', mail_header_2)"
   ]
  },
  {
   "cell_type": "markdown",
   "metadata": {},
   "source": [
    "### E-mail's domain extraction\n",
    "- Extrtact the domain that the email has been sent from\n",
    "- *Note: `[^ ]` serves as `\\S` here*"
   ]
  },
  {
   "cell_type": "code",
   "execution_count": null,
   "metadata": {},
   "outputs": [],
   "source": [
    "re.findall('@([^ ]+)', mail_header_2)"
   ]
  },
  {
   "cell_type": "code",
   "execution_count": null,
   "metadata": {},
   "outputs": [],
   "source": [
    "re.findall('^From: .+?@([^ ]*)', mail_header_2)"
   ]
  },
  {
   "cell_type": "markdown",
   "metadata": {},
   "source": [
    "### Spam confidence\n",
    "- Given: Information about spam confidence presented as: `X-DSPAM-Confidence: 0.8475`\n",
    "- To do: \n",
    "    - Extract spam confidences of all e-mails\n",
    "    - Compute maximum and median spam confidence\n"
   ]
  },
  {
   "cell_type": "code",
   "execution_count": null,
   "metadata": {},
   "outputs": [],
   "source": [
    "import numpy as np\n",
    "hand = open('./txt/mbox-short.txt')\n",
    "numlist = list()\n",
    "for line in hand:\n",
    "    line = line.rstrip()\n",
    "    stuff = re.findall('^X-DSPAM-Confidence: ([0-9.]+)', line)\n",
    "    if len(stuff) != 1 :  continue\n",
    "    num = float(stuff[0])\n",
    "    numlist.append(num)\n",
    "print('Maximum: {}, Median: {}'.format(max(numlist), np.median(numlist)))"
   ]
  },
  {
   "cell_type": "markdown",
   "metadata": {},
   "source": [
    "### Escape Character\n",
    "- If you want a special regular expression character to just behave normally (most of the time) you prefix it with `\\`\n",
    "- To do: Extract the amount (in USD) from the given sentence "
   ]
  },
  {
   "cell_type": "code",
   "execution_count": null,
   "metadata": {},
   "outputs": [],
   "source": [
    "text = 'We just received $10.00 for cookies.'\n",
    "re.findall('\\$[0-9.]+', text)"
   ]
  },
  {
   "cell_type": "markdown",
   "metadata": {},
   "source": [
    "- Question: What output will we get now?"
   ]
  },
  {
   "cell_type": "code",
   "execution_count": null,
   "metadata": {},
   "outputs": [],
   "source": [
    "text = 'We just received $10.00 for cookies. Each of us received $5 as we share the income evenly.'\n",
    "re.findall('\\$[0-9.]+', text)"
   ]
  },
  {
   "cell_type": "markdown",
   "metadata": {},
   "source": [
    "- Usually, you can achieve your goal in many ways. There is usually a trade-off: more complex regular expressions are less susceptible to contaminated data."
   ]
  },
  {
   "cell_type": "code",
   "execution_count": null,
   "metadata": {},
   "outputs": [],
   "source": [
    "text = 'We just received $10.00 for cookies. Each of us received $5 as we share the income evenly.'\n",
    "re.findall('\\$[0-9]+\\.*[0-9]*', text)"
   ]
  }
 ],
 "metadata": {
  "kernelspec": {
   "display_name": "Python 3",
   "language": "python",
   "name": "python3"
  },
  "language_info": {
   "codemirror_mode": {
    "name": "ipython",
    "version": 3
   },
   "file_extension": ".py",
   "mimetype": "text/x-python",
   "name": "python",
   "nbconvert_exporter": "python",
   "pygments_lexer": "ipython3",
   "version": "3.8.3"
  }
 },
 "nbformat": 4,
 "nbformat_minor": 4
}
